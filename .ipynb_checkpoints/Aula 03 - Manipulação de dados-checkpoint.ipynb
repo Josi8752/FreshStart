{
 "cells": [
  {
   "cell_type": "markdown",
   "metadata": {},
   "source": [
    "# Aula 03 - Manipulação dos dados"
   ]
  },
  {
   "cell_type": "code",
   "execution_count": 1,
   "metadata": {},
   "outputs": [],
   "source": [
    "import warnings\n",
    "warnings.filterwarnings('ignore')\n",
    "\n",
    "import pandas as pd\n",
    "import numpy as np\n",
    "import matplotlib.pylab as plt\n",
    "%matplotlib inline\n",
    "plt.style.use('seaborn-whitegrid')\n",
    "plt.rc('text', usetex=True)\n",
    "plt.rc('font', family='times')\n",
    "plt.rc('xtick', labelsize=10)\n",
    "plt.rc('ytick', labelsize=10)\n",
    "plt.rc('font', size=12)"
   ]
  },
  {
   "cell_type": "code",
   "execution_count": null,
   "metadata": {},
   "outputs": [],
   "source": [
    "!pip install latex"
   ]
  },
  {
   "cell_type": "markdown",
   "metadata": {},
   "source": [
    "## Leitura de dados tabulares\n",
    "\n"
   ]
  },
  {
   "cell_type": "code",
   "execution_count": 2,
   "metadata": {},
   "outputs": [
    {
     "name": "stdout",
     "output_type": "stream",
     "text": [
      "\"TIME\",\"GEO\",\"INDIC_ED\",\"Value\",\"Flag and Footnotes\"\r\n",
      "\"2000\",\"European Union (28 countries)\",\"Total public expenditure on education as % of GDP, for all levels of education combined\",\":\",\"\"\r\n",
      "\"2001\",\"European Union (28 countries)\",\"Total public expenditure on education as % of GDP, for all levels of education combined\",\":\",\"\"\r\n",
      "\"2002\",\"European Union (28 countries)\",\"Total public expenditure on education as % of GDP, for all levels of education combined\",\"5.00\",\"e\"\r\n",
      "\"2003\",\"European Union (28 countries)\",\"Total public expenditure on education as % of GDP, for all levels of education combined\",\"5.03\",\"e\"\r\n",
      "\"2004\",\"European Union (28 countries)\",\"Total public expenditure on education as % of GDP, for all levels of education combined\",\"4.95\",\"e\"\r\n",
      "\"2005\",\"European Union (28 countries)\",\"Total public expenditure on education as % of GDP, for all levels of education combined\",\"4.92\",\"e\"\r\n",
      "\"2006\",\"European Union (28 countries)\",\"Total public expenditure on education as % of GDP, for all levels of education combined\",\"4.91\",\"e\"\r\n",
      "\"2007\",\"European Union (28 countries)\",\"Total public expenditure on education as % of GDP, for all levels of education combined\",\"4.92\",\"e\"\r\n",
      "\"2008\",\"European Union (28 countries)\",\"Total public expenditure on education as % of GDP, for all levels of education combined\",\"5.04\",\"e\"\r\n",
      "\"2009\",\"European Union (28 countries)\",\"Total public expenditure on education as % of GDP, for all levels of education combined\",\"5.38\",\"e\"\r\n",
      "\"2010\",\"European Union (28 countries)\",\"Total public expenditure on education as % of GDP, for all levels of education combined\",\"5.41\",\"e\"\r\n",
      "\"2011\",\"European Union (28 countries)\",\"Total public expenditure on education as % of GDP, for all levels of education combined\",\"5.25\",\"e\"\r\n",
      "\"2000\",\"European Union (27 countries)\",\"Total public expenditure on education as % of GDP, for all levels of education combined\",\"4.91\",\"s\"\r\n",
      "\"2001\",\"European Union (27 countries)\",\"Total public expenditure on education as % of GDP, for all levels of education combined\",\"4.99\",\"s\"\r\n",
      "\"2002\",\"European Union (27 countries)\",\"Total public expenditure on education as % of GDP, for all levels of education combined\",\"5.00\",\"e\"\r\n",
      "\"2003\",\"European Union (27 countries)\",\"Total public expenditure on education as % of GDP, for all levels of education combined\",\"5.04\",\"e\"\r\n",
      "\"2004\",\"European Union (27 countries)\",\"Total public expenditure on education as % of GDP, for all levels of education combined\",\"4.95\",\"e\"\r\n",
      "\"2005\",\"European Union (27 countries)\",\"Total public expenditure on education as % of GDP, for all levels of education combined\",\"4.92\",\"e\"\r\n",
      "\"2006\",\"European Union (27 countries)\",\"Total public expenditure on education as % of GDP, for all levels of education combined\",\"4.91\",\"e\"\r\n",
      "\"2007\",\"European Union (27 countries)\",\"Total public expenditure on education as % of GDP, for all levels of education combined\",\"4.93\",\"e\"\r\n",
      "\"2008\",\"European Union (27 countries)\",\"Total public expenditure on education as % of GDP, for all levels of education combined\",\"5.04\",\"e\"\r\n",
      "\"2009\",\"European Union (27 countries)\",\"Total public expenditure on education as % of GDP, for all levels of education combined\",\"5.38\",\"e\"\r\n",
      "\"2010\",\"European Union (27 countries)\",\"Total public expenditure on education as % of GDP, for all levels of education combined\",\"5.41\",\"e\"\r\n",
      "\"2011\",\"European Union (27 countries)\",\"Total public expenditure on education as % of GDP, for all levels of education combined\",\"5.25\",\"e\"\r\n",
      "\"2000\",\"European Union (25 countries)\",\"Total public expenditure on education as % of GDP, for all levels of education combined\",\"4.94\",\"s\"\r\n",
      "\"2001\",\"European Union (25 countries)\",\"Total public expenditure on education as % of GDP, for all levels of education combined\",\"5.02\",\"s\"\r\n",
      "\"2002\",\"European Union (25 countries)\",\"Total public expenditure on education as % of GDP, for all levels of education combined\",\"5.03\",\"e\"\r\n",
      "\"2003\",\"European Union (25 countries)\",\"Total public expenditure on education as % of GDP, for all levels of education combined\",\"5.06\",\"e\"\r\n",
      "\"2004\",\"European Union (25 countries)\",\"Total public expenditure on education as % of GDP, for all levels of education combined\",\"4.98\",\"e\"\r\n",
      "\"2005\",\"European Union (25 countries)\",\"Total public expenditure on education as % of GDP, for all levels of education combined\",\"4.95\",\"e\"\r\n",
      "\"2006\",\"European Union (25 countries)\",\"Total public expenditure on education as % of GDP, for all levels of education combined\",\"4.93\",\"e\"\r\n",
      "\"2007\",\"European Union (25 countries)\",\"Total public expenditure on education as % of GDP, for all levels of education combined\",\"4.95\",\"e\"\r\n",
      "\"2008\",\"European Union (25 countries)\",\"Total public expenditure on education as % of GDP, for all levels of education combined\",\"5.06\",\"e\"\r\n",
      "\"2009\",\"European Union (25 countries)\",\"Total public expenditure on education as % of GDP, for all levels of education combined\",\"5.41\",\"e\"\r\n",
      "\"2010\",\"European Union (25 countries)\",\"Total public expenditure on education as % of GDP, for all levels of education combined\",\"5.46\",\"e\"\r\n",
      "\"2011\",\"European Union (25 countries)\",\"Total public expenditure on education as % of GDP, for all levels of education combined\",\"5.31\",\"e\"\r\n",
      "\"2000\",\"Euro area (18 countries)\",\"Total public expenditure on education as % of GDP, for all levels of education combined\",\":\",\"\"\r\n",
      "\"2001\",\"Euro area (18 countries)\",\"Total public expenditure on education as % of GDP, for all levels of education combined\",\":\",\"\"\r\n",
      "\"2002\",\"Euro area (18 countries)\",\"Total public expenditure on education as % of GDP, for all levels of education combined\",\"4.87\",\"e\"\r\n",
      "\"2003\",\"Euro area (18 countries)\",\"Total public expenditure on education as % of GDP, for all levels of education combined\",\"4.89\",\"e\"\r\n",
      "\"2004\",\"Euro area (18 countries)\",\"Total public expenditure on education as % of GDP, for all levels of education combined\",\"4.80\",\"e\"\r\n",
      "\"2005\",\"Euro area (18 countries)\",\"Total public expenditure on education as % of GDP, for all levels of education combined\",\"4.72\",\"e\"\r\n",
      "\"2006\",\"Euro area (18 countries)\",\"Total public expenditure on education as % of GDP, for all levels of education combined\",\"4.69\",\"e\"\r\n",
      "\"2007\",\"Euro area (18 countries)\",\"Total public expenditure on education as % of GDP, for all levels of education combined\",\"4.79\",\"e\"\r\n",
      "\"2008\",\"Euro area (18 countries)\",\"Total public expenditure on education as % of GDP, for all levels of education combined\",\"4.94\",\"e\"\r\n",
      "\"2009\",\"Euro area (18 countries)\",\"Total public expenditure on education as % of GDP, for all levels of education combined\",\"5.31\",\"e\"\r\n",
      "\"2010\",\"Euro area (18 countries)\",\"Total public expenditure on education as % of GDP, for all levels of education combined\",\"5.28\",\"e\"\r\n",
      "\"2011\",\"Euro area (18 countries)\",\"Total public expenditure on education as % of GDP, for all levels of education combined\",\"5.15\",\"e\"\r\n",
      "\"2000\",\"Euro area (17 countries)\",\"Total public expenditure on education as % of GDP, for all levels of education combined\",\":\",\"\"\r\n",
      "\"2001\",\"Euro area (17 countries)\",\"Total public expenditure on education as % of GDP, for all levels of education combined\",\":\",\"\"\r\n",
      "\"2002\",\"Euro area (17 countries)\",\"Total public expenditure on education as % of GDP, for all levels of education combined\",\"4.86\",\"e\"\r\n",
      "\"2003\",\"Euro area (17 countries)\",\"Total public expenditure on education as % of GDP, for all levels of education combined\",\"4.89\",\"e\"\r\n",
      "\"2004\",\"Euro area (17 countries)\",\"Total public expenditure on education as % of GDP, for all levels of education combined\",\"4.80\",\"e\"\r\n",
      "\"2005\",\"Euro area (17 countries)\",\"Total public expenditure on education as % of GDP, for all levels of education combined\",\"4.72\",\"e\"\r\n",
      "\"2006\",\"Euro area (17 countries)\",\"Total public expenditure on education as % of GDP, for all levels of education combined\",\"4.69\",\"e\"\r\n",
      "\"2007\",\"Euro area (17 countries)\",\"Total public expenditure on education as % of GDP, for all levels of education combined\",\"4.79\",\"e\"\r\n",
      "\"2008\",\"Euro area (17 countries)\",\"Total public expenditure on education as % of GDP, for all levels of education combined\",\"4.94\",\"e\"\r\n",
      "\"2009\",\"Euro area (17 countries)\",\"Total public expenditure on education as % of GDP, for all levels of education combined\",\"5.31\",\"e\"\r\n",
      "\"2010\",\"Euro area (17 countries)\",\"Total public expenditure on education as % of GDP, for all levels of education combined\",\"5.28\",\"e\"\r\n",
      "\"2011\",\"Euro area (17 countries)\",\"Total public expenditure on education as % of GDP, for all levels of education combined\",\"5.15\",\"e\"\r\n",
      "\"2000\",\"Euro area (15 countries)\",\"Total public expenditure on education as % of GDP, for all levels of education combined\",\":\",\"u\"\r\n",
      "\"2001\",\"Euro area (15 countries)\",\"Total public expenditure on education as % of GDP, for all levels of education combined\",\"4.98\",\"s\"\r\n",
      "\"2002\",\"Euro area (15 countries)\",\"Total public expenditure on education as % of GDP, for all levels of education combined\",\"5.01\",\"e\"\r\n",
      "\"2003\",\"Euro area (15 countries)\",\"Total public expenditure on education as % of GDP, for all levels of education combined\",\"5.04\",\"e\"\r\n",
      "\"2004\",\"Euro area (15 countries)\",\"Total public expenditure on education as % of GDP, for all levels of education combined\",\"4.96\",\"e\"\r\n",
      "\"2005\",\"Euro area (15 countries)\",\"Total public expenditure on education as % of GDP, for all levels of education combined\",\"4.89\",\"e\"\r\n",
      "\"2006\",\"Euro area (15 countries)\",\"Total public expenditure on education as % of GDP, for all levels of education combined\",\"4.87\",\"e\"\r\n",
      "\"2007\",\"Euro area (15 countries)\",\"Total public expenditure on education as % of GDP, for all levels of education combined\",\"4.81\",\"e\"\r\n",
      "\"2008\",\"Euro area (15 countries)\",\"Total public expenditure on education as % of GDP, for all levels of education combined\",\"4.95\",\"e\"\r\n",
      "\"2009\",\"Euro area (15 countries)\",\"Total public expenditure on education as % of GDP, for all levels of education combined\",\"5.32\",\"e\"\r\n",
      "\"2010\",\"Euro area (15 countries)\",\"Total public expenditure on education as % of GDP, for all levels of education combined\",\"5.29\",\"e\"\r\n",
      "\"2011\",\"Euro area (15 countries)\",\"Total public expenditure on education as % of GDP, for all levels of education combined\",\"5.16\",\"e\"\r\n",
      "\"2000\",\"Euro area (13 countries)\",\"Total public expenditure on education as % of GDP, for all levels of education combined\",\":\",\"u\"\r\n",
      "\"2001\",\"Euro area (13 countries)\",\"Total public expenditure on education as % of GDP, for all levels of education combined\",\"4.97\",\"s\"\r\n",
      "\"2002\",\"Euro area (13 countries)\",\"Total public expenditure on education as % of GDP, for all levels of education combined\",\"5.00\",\"e\"\r\n",
      "\"2003\",\"Euro area (13 countries)\",\"Total public expenditure on education as % of GDP, for all levels of education combined\",\"5.04\",\"e\"\r\n",
      "\"2004\",\"Euro area (13 countries)\",\"Total public expenditure on education as % of GDP, for all levels of education combined\",\"4.95\",\"e\"\r\n",
      "\"2005\",\"Euro area (13 countries)\",\"Total public expenditure on education as % of GDP, for all levels of education combined\",\"4.89\",\"e\"\r\n",
      "\"2006\",\"Euro area (13 countries)\",\"Total public expenditure on education as % of GDP, for all levels of education combined\",\"4.87\",\"e\"\r\n",
      "\"2007\",\"Euro area (13 countries)\",\"Total public expenditure on education as % of GDP, for all levels of education combined\",\"4.80\",\"e\"\r\n",
      "\"2008\",\"Euro area (13 countries)\",\"Total public expenditure on education as % of GDP, for all levels of education combined\",\"4.94\",\"e\"\r\n",
      "\"2009\",\"Euro area (13 countries)\",\"Total public expenditure on education as % of GDP, for all levels of education combined\",\"5.32\",\"e\"\r\n",
      "\"2010\",\"Euro area (13 countries)\",\"Total public expenditure on education as % of GDP, for all levels of education combined\",\"5.28\",\"e\"\r\n",
      "\"2011\",\"Euro area (13 countries)\",\"Total public expenditure on education as % of GDP, for all levels of education combined\",\"5.15\",\"e\"\r\n",
      "\"2000\",\"Belgium\",\"Total public expenditure on education as % of GDP, for all levels of education combined\",\":\",\"u\"\r\n",
      "\"2001\",\"Belgium\",\"Total public expenditure on education as % of GDP, for all levels of education combined\",\"5.99\",\"i\"\r\n",
      "\"2002\",\"Belgium\",\"Total public expenditure on education as % of GDP, for all levels of education combined\",\"6.09\",\"d\"\r\n",
      "\"2003\",\"Belgium\",\"Total public expenditure on education as % of GDP, for all levels of education combined\",\"6.02\",\"d\"\r\n",
      "\"2004\",\"Belgium\",\"Total public expenditure on education as % of GDP, for all levels of education combined\",\"5.95\",\"d\"\r\n",
      "\"2005\",\"Belgium\",\"Total public expenditure on education as % of GDP, for all levels of education combined\",\"5.92\",\"d\"\r\n",
      "\"2006\",\"Belgium\",\"Total public expenditure on education as % of GDP, for all levels of education combined\",\"5.98\",\"d\"\r\n",
      "\"2007\",\"Belgium\",\"Total public expenditure on education as % of GDP, for all levels of education combined\",\"6.00\",\"d\"\r\n",
      "\"2008\",\"Belgium\",\"Total public expenditure on education as % of GDP, for all levels of education combined\",\"6.43\",\"d\"\r\n",
      "\"2009\",\"Belgium\",\"Total public expenditure on education as % of GDP, for all levels of education combined\",\"6.57\",\"d\"\r\n",
      "\"2010\",\"Belgium\",\"Total public expenditure on education as % of GDP, for all levels of education combined\",\"6.58\",\"d\"\r\n",
      "\"2011\",\"Belgium\",\"Total public expenditure on education as % of GDP, for all levels of education combined\",\"6.55\",\"d\"\r\n",
      "\"2000\",\"Bulgaria\",\"Total public expenditure on education as % of GDP, for all levels of education combined\",\"3.88\",\"\"\r\n",
      "\"2001\",\"Bulgaria\",\"Total public expenditure on education as % of GDP, for all levels of education combined\",\"3.70\",\"\"\r\n",
      "\"2002\",\"Bulgaria\",\"Total public expenditure on education as % of GDP, for all levels of education combined\",\"3.94\",\"\"\r\n",
      "\"2003\",\"Bulgaria\",\"Total public expenditure on education as % of GDP, for all levels of education combined\",\"4.09\",\"\"\r\n",
      "\"2004\",\"Bulgaria\",\"Total public expenditure on education as % of GDP, for all levels of education combined\",\"4.40\",\"\"\r\n",
      "\"2005\",\"Bulgaria\",\"Total public expenditure on education as % of GDP, for all levels of education combined\",\"4.25\",\"\"\r\n",
      "\"2006\",\"Bulgaria\",\"Total public expenditure on education as % of GDP, for all levels of education combined\",\"4.04\",\"\"\r\n",
      "\"2007\",\"Bulgaria\",\"Total public expenditure on education as % of GDP, for all levels of education combined\",\"3.88\",\"\"\r\n",
      "\"2008\",\"Bulgaria\",\"Total public expenditure on education as % of GDP, for all levels of education combined\",\"4.44\",\"\"\r\n",
      "\"2009\",\"Bulgaria\",\"Total public expenditure on education as % of GDP, for all levels of education combined\",\"4.58\",\"\"\r\n",
      "\"2010\",\"Bulgaria\",\"Total public expenditure on education as % of GDP, for all levels of education combined\",\"4.10\",\"\"\r\n",
      "\"2011\",\"Bulgaria\",\"Total public expenditure on education as % of GDP, for all levels of education combined\",\"3.82\",\"\"\r\n",
      "\"2000\",\"Czech Republic\",\"Total public expenditure on education as % of GDP, for all levels of education combined\",\"3.83\",\"\"\r\n",
      "\"2001\",\"Czech Republic\",\"Total public expenditure on education as % of GDP, for all levels of education combined\",\"3.93\",\"\"\r\n",
      "\"2002\",\"Czech Republic\",\"Total public expenditure on education as % of GDP, for all levels of education combined\",\"4.15\",\"\"\r\n",
      "\"2003\",\"Czech Republic\",\"Total public expenditure on education as % of GDP, for all levels of education combined\",\"4.32\",\"\"\r\n",
      "\"2004\",\"Czech Republic\",\"Total public expenditure on education as % of GDP, for all levels of education combined\",\"4.20\",\"\"\r\n",
      "\"2005\",\"Czech Republic\",\"Total public expenditure on education as % of GDP, for all levels of education combined\",\"4.08\",\"\"\r\n",
      "\"2006\",\"Czech Republic\",\"Total public expenditure on education as % of GDP, for all levels of education combined\",\"4.42\",\"\"\r\n",
      "\"2007\",\"Czech Republic\",\"Total public expenditure on education as % of GDP, for all levels of education combined\",\"4.05\",\"\"\r\n",
      "\"2008\",\"Czech Republic\",\"Total public expenditure on education as % of GDP, for all levels of education combined\",\"3.92\",\"\"\r\n",
      "\"2009\",\"Czech Republic\",\"Total public expenditure on education as % of GDP, for all levels of education combined\",\"4.36\",\"\"\r\n",
      "\"2010\",\"Czech Republic\",\"Total public expenditure on education as % of GDP, for all levels of education combined\",\"4.25\",\"\"\r\n",
      "\"2011\",\"Czech Republic\",\"Total public expenditure on education as % of GDP, for all levels of education combined\",\"4.51\",\"\"\r\n",
      "\"2000\",\"Denmark\",\"Total public expenditure on education as % of GDP, for all levels of education combined\",\"8.28\",\"i\"\r\n",
      "\"2001\",\"Denmark\",\"Total public expenditure on education as % of GDP, for all levels of education combined\",\"8.44\",\"d\"\r\n",
      "\"2002\",\"Denmark\",\"Total public expenditure on education as % of GDP, for all levels of education combined\",\"8.44\",\"d\"\r\n",
      "\"2003\",\"Denmark\",\"Total public expenditure on education as % of GDP, for all levels of education combined\",\"8.33\",\"\"\r\n",
      "\"2004\",\"Denmark\",\"Total public expenditure on education as % of GDP, for all levels of education combined\",\"8.43\",\"\"\r\n",
      "\"2005\",\"Denmark\",\"Total public expenditure on education as % of GDP, for all levels of education combined\",\"8.30\",\"d\"\r\n",
      "\"2006\",\"Denmark\",\"Total public expenditure on education as % of GDP, for all levels of education combined\",\"7.97\",\"d\"\r\n",
      "\"2007\",\"Denmark\",\"Total public expenditure on education as % of GDP, for all levels of education combined\",\"7.81\",\"d\"\r\n",
      "\"2008\",\"Denmark\",\"Total public expenditure on education as % of GDP, for all levels of education combined\",\"7.68\",\"d\"\r\n",
      "\"2009\",\"Denmark\",\"Total public expenditure on education as % of GDP, for all levels of education combined\",\"8.74\",\"d\"\r\n",
      "\"2010\",\"Denmark\",\"Total public expenditure on education as % of GDP, for all levels of education combined\",\"8.81\",\"d\"\r\n",
      "\"2011\",\"Denmark\",\"Total public expenditure on education as % of GDP, for all levels of education combined\",\"8.75\",\"d\"\r\n",
      "\"2000\",\"Germany (until 1990 former territory of the FRG)\",\"Total public expenditure on education as % of GDP, for all levels of education combined\",\"4.45\",\"\"\r\n",
      "\"2001\",\"Germany (until 1990 former territory of the FRG)\",\"Total public expenditure on education as % of GDP, for all levels of education combined\",\"4.51\",\"\"\r\n",
      "\"2002\",\"Germany (until 1990 former territory of the FRG)\",\"Total public expenditure on education as % of GDP, for all levels of education combined\",\"4.72\",\"\"\r\n",
      "\"2003\",\"Germany (until 1990 former territory of the FRG)\",\"Total public expenditure on education as % of GDP, for all levels of education combined\",\"4.74\",\"\"\r\n",
      "\"2004\",\"Germany (until 1990 former territory of the FRG)\",\"Total public expenditure on education as % of GDP, for all levels of education combined\",\"4.62\",\"\"\r\n",
      "\"2005\",\"Germany (until 1990 former territory of the FRG)\",\"Total public expenditure on education as % of GDP, for all levels of education combined\",\"4.57\",\"\"\r\n",
      "\"2006\",\"Germany (until 1990 former territory of the FRG)\",\"Total public expenditure on education as % of GDP, for all levels of education combined\",\"4.43\",\"\"\r\n",
      "\"2007\",\"Germany (until 1990 former territory of the FRG)\",\"Total public expenditure on education as % of GDP, for all levels of education combined\",\"4.49\",\"\"\r\n",
      "\"2008\",\"Germany (until 1990 former territory of the FRG)\",\"Total public expenditure on education as % of GDP, for all levels of education combined\",\"4.57\",\"\"\r\n",
      "\"2009\",\"Germany (until 1990 former territory of the FRG)\",\"Total public expenditure on education as % of GDP, for all levels of education combined\",\"5.06\",\"\"\r\n",
      "\"2010\",\"Germany (until 1990 former territory of the FRG)\",\"Total public expenditure on education as % of GDP, for all levels of education combined\",\"5.08\",\"\"\r\n",
      "\"2011\",\"Germany (until 1990 former territory of the FRG)\",\"Total public expenditure on education as % of GDP, for all levels of education combined\",\"4.98\",\"\"\r\n",
      "\"2000\",\"Estonia\",\"Total public expenditure on education as % of GDP, for all levels of education combined\",\"5.57\",\"i\"\r\n",
      "\"2001\",\"Estonia\",\"Total public expenditure on education as % of GDP, for all levels of education combined\",\"5.24\",\"\"\r\n",
      "\"2002\",\"Estonia\",\"Total public expenditure on education as % of GDP, for all levels of education combined\",\"5.47\",\"\"\r\n",
      "\"2003\",\"Estonia\",\"Total public expenditure on education as % of GDP, for all levels of education combined\",\"5.29\",\"\"\r\n",
      "\"2004\",\"Estonia\",\"Total public expenditure on education as % of GDP, for all levels of education combined\",\"4.92\",\"\"\r\n",
      "\"2005\",\"Estonia\",\"Total public expenditure on education as % of GDP, for all levels of education combined\",\"4.88\",\"\"\r\n",
      "\"2006\",\"Estonia\",\"Total public expenditure on education as % of GDP, for all levels of education combined\",\"4.70\",\"\"\r\n",
      "\"2007\",\"Estonia\",\"Total public expenditure on education as % of GDP, for all levels of education combined\",\"4.72\",\"d\"\r\n",
      "\"2008\",\"Estonia\",\"Total public expenditure on education as % of GDP, for all levels of education combined\",\"5.61\",\"\"\r\n",
      "\"2009\",\"Estonia\",\"Total public expenditure on education as % of GDP, for all levels of education combined\",\"6.03\",\"\"\r\n",
      "\"2010\",\"Estonia\",\"Total public expenditure on education as % of GDP, for all levels of education combined\",\"5.66\",\"\"\r\n",
      "\"2011\",\"Estonia\",\"Total public expenditure on education as % of GDP, for all levels of education combined\",\"5.16\",\"\"\r\n",
      "\"2000\",\"Ireland\",\"Total public expenditure on education as % of GDP, for all levels of education combined\",\"4.29\",\"\"\r\n",
      "\"2001\",\"Ireland\",\"Total public expenditure on education as % of GDP, for all levels of education combined\",\"4.24\",\"\"\r\n",
      "\"2002\",\"Ireland\",\"Total public expenditure on education as % of GDP, for all levels of education combined\",\"4.27\",\"\"\r\n",
      "\"2003\",\"Ireland\",\"Total public expenditure on education as % of GDP, for all levels of education combined\",\"4.35\",\"\"\r\n",
      "\"2004\",\"Ireland\",\"Total public expenditure on education as % of GDP, for all levels of education combined\",\"4.66\",\"\"\r\n",
      "\"2005\",\"Ireland\",\"Total public expenditure on education as % of GDP, for all levels of education combined\",\"4.72\",\"\"\r\n",
      "\"2006\",\"Ireland\",\"Total public expenditure on education as % of GDP, for all levels of education combined\",\"4.73\",\"\"\r\n",
      "\"2007\",\"Ireland\",\"Total public expenditure on education as % of GDP, for all levels of education combined\",\"4.92\",\"\"\r\n",
      "\"2008\",\"Ireland\",\"Total public expenditure on education as % of GDP, for all levels of education combined\",\"5.67\",\"\"\r\n",
      "\"2009\",\"Ireland\",\"Total public expenditure on education as % of GDP, for all levels of education combined\",\"6.43\",\"\"\r\n",
      "\"2010\",\"Ireland\",\"Total public expenditure on education as % of GDP, for all levels of education combined\",\"6.41\",\"\"\r\n",
      "\"2011\",\"Ireland\",\"Total public expenditure on education as % of GDP, for all levels of education combined\",\"6.15\",\"\"\r\n",
      "\"2000\",\"Greece\",\"Total public expenditure on education as % of GDP, for all levels of education combined\",\"3.71\",\"i\"\r\n",
      "\"2001\",\"Greece\",\"Total public expenditure on education as % of GDP, for all levels of education combined\",\"3.50\",\"i\"\r\n",
      "\"2002\",\"Greece\",\"Total public expenditure on education as % of GDP, for all levels of education combined\",\"3.57\",\"i\"\r\n",
      "\"2003\",\"Greece\",\"Total public expenditure on education as % of GDP, for all levels of education combined\",\"3.56\",\"i\"\r\n",
      "\"2004\",\"Greece\",\"Total public expenditure on education as % of GDP, for all levels of education combined\",\"3.83\",\"i\"\r\n",
      "\"2005\",\"Greece\",\"Total public expenditure on education as % of GDP, for all levels of education combined\",\"4.09\",\"\"\r\n",
      "\"2006\",\"Greece\",\"Total public expenditure on education as % of GDP, for all levels of education combined\",\":\",\"\"\r\n",
      "\"2007\",\"Greece\",\"Total public expenditure on education as % of GDP, for all levels of education combined\",\":\",\"\"\r\n",
      "\"2008\",\"Greece\",\"Total public expenditure on education as % of GDP, for all levels of education combined\",\":\",\"\"\r\n",
      "\"2009\",\"Greece\",\"Total public expenditure on education as % of GDP, for all levels of education combined\",\":\",\"\"\r\n",
      "\"2010\",\"Greece\",\"Total public expenditure on education as % of GDP, for all levels of education combined\",\":\",\"\"\r\n",
      "\"2011\",\"Greece\",\"Total public expenditure on education as % of GDP, for all levels of education combined\",\":\",\"\"\r\n",
      "\"2000\",\"Spain\",\"Total public expenditure on education as % of GDP, for all levels of education combined\",\"4.28\",\"\"\r\n",
      "\"2001\",\"Spain\",\"Total public expenditure on education as % of GDP, for all levels of education combined\",\"4.24\",\"\"\r\n",
      "\"2002\",\"Spain\",\"Total public expenditure on education as % of GDP, for all levels of education combined\",\"4.25\",\"\"\r\n",
      "\"2003\",\"Spain\",\"Total public expenditure on education as % of GDP, for all levels of education combined\",\"4.28\",\"\"\r\n",
      "\"2004\",\"Spain\",\"Total public expenditure on education as % of GDP, for all levels of education combined\",\"4.25\",\"\"\r\n",
      "\"2005\",\"Spain\",\"Total public expenditure on education as % of GDP, for all levels of education combined\",\"4.23\",\"\"\r\n",
      "\"2006\",\"Spain\",\"Total public expenditure on education as % of GDP, for all levels of education combined\",\"4.26\",\"\"\r\n",
      "\"2007\",\"Spain\",\"Total public expenditure on education as % of GDP, for all levels of education combined\",\"4.34\",\"\"\r\n",
      "\"2008\",\"Spain\",\"Total public expenditure on education as % of GDP, for all levels of education combined\",\"4.62\",\"\"\r\n",
      "\"2009\",\"Spain\",\"Total public expenditure on education as % of GDP, for all levels of education combined\",\"5.02\",\"\"\r\n",
      "\"2010\",\"Spain\",\"Total public expenditure on education as % of GDP, for all levels of education combined\",\"4.98\",\"\"\r\n",
      "\"2011\",\"Spain\",\"Total public expenditure on education as % of GDP, for all levels of education combined\",\"4.82\",\"\"\r\n",
      "\"2000\",\"France\",\"Total public expenditure on education as % of GDP, for all levels of education combined\",\"6.04\",\"\"\r\n",
      "\"2001\",\"France\",\"Total public expenditure on education as % of GDP, for all levels of education combined\",\"5.95\",\"\"\r\n",
      "\"2002\",\"France\",\"Total public expenditure on education as % of GDP, for all levels of education combined\",\"5.90\",\"\"\r\n",
      "\"2003\",\"France\",\"Total public expenditure on education as % of GDP, for all levels of education combined\",\"5.92\",\"\"\r\n",
      "\"2004\",\"France\",\"Total public expenditure on education as % of GDP, for all levels of education combined\",\"5.80\",\"\"\r\n",
      "\"2005\",\"France\",\"Total public expenditure on education as % of GDP, for all levels of education combined\",\"5.67\",\"\"\r\n",
      "\"2006\",\"France\",\"Total public expenditure on education as % of GDP, for all levels of education combined\",\"5.61\",\"\"\r\n",
      "\"2007\",\"France\",\"Total public expenditure on education as % of GDP, for all levels of education combined\",\"5.62\",\"\"\r\n",
      "\"2008\",\"France\",\"Total public expenditure on education as % of GDP, for all levels of education combined\",\"5.62\",\"\"\r\n",
      "\"2009\",\"France\",\"Total public expenditure on education as % of GDP, for all levels of education combined\",\"5.90\",\"\"\r\n",
      "\"2010\",\"France\",\"Total public expenditure on education as % of GDP, for all levels of education combined\",\"5.86\",\"\"\r\n",
      "\"2011\",\"France\",\"Total public expenditure on education as % of GDP, for all levels of education combined\",\"5.68\",\"\"\r\n",
      "\"2000\",\"Italy\",\"Total public expenditure on education as % of GDP, for all levels of education combined\",\"4.52\",\"\"\r\n",
      "\"2001\",\"Italy\",\"Total public expenditure on education as % of GDP, for all levels of education combined\",\"4.83\",\"\"\r\n",
      "\"2002\",\"Italy\",\"Total public expenditure on education as % of GDP, for all levels of education combined\",\"4.60\",\"\"\r\n",
      "\"2003\",\"Italy\",\"Total public expenditure on education as % of GDP, for all levels of education combined\",\"4.72\",\"\"\r\n",
      "\"2004\",\"Italy\",\"Total public expenditure on education as % of GDP, for all levels of education combined\",\"4.56\",\"\"\r\n",
      "\"2005\",\"Italy\",\"Total public expenditure on education as % of GDP, for all levels of education combined\",\"4.41\",\"\"\r\n",
      "\"2006\",\"Italy\",\"Total public expenditure on education as % of GDP, for all levels of education combined\",\"4.67\",\"\"\r\n",
      "\"2007\",\"Italy\",\"Total public expenditure on education as % of GDP, for all levels of education combined\",\"4.27\",\"\"\r\n",
      "\"2008\",\"Italy\",\"Total public expenditure on education as % of GDP, for all levels of education combined\",\"4.56\",\"\"\r\n",
      "\"2009\",\"Italy\",\"Total public expenditure on education as % of GDP, for all levels of education combined\",\"4.70\",\"\"\r\n",
      "\"2010\",\"Italy\",\"Total public expenditure on education as % of GDP, for all levels of education combined\",\"4.50\",\"\"\r\n",
      "\"2011\",\"Italy\",\"Total public expenditure on education as % of GDP, for all levels of education combined\",\"4.29\",\"\"\r\n",
      "\"2000\",\"Cyprus\",\"Total public expenditure on education as % of GDP, for all levels of education combined\",\"5.42\",\"i\"\r\n",
      "\"2001\",\"Cyprus\",\"Total public expenditure on education as % of GDP, for all levels of education combined\",\"5.98\",\"i\"\r\n",
      "\"2002\",\"Cyprus\",\"Total public expenditure on education as % of GDP, for all levels of education combined\",\"6.60\",\"d\"\r\n",
      "\"2003\",\"Cyprus\",\"Total public expenditure on education as % of GDP, for all levels of education combined\",\"7.37\",\"d\"\r\n",
      "\"2004\",\"Cyprus\",\"Total public expenditure on education as % of GDP, for all levels of education combined\",\"6.77\",\"d\"\r\n",
      "\"2005\",\"Cyprus\",\"Total public expenditure on education as % of GDP, for all levels of education combined\",\"6.95\",\"d\"\r\n",
      "\"2006\",\"Cyprus\",\"Total public expenditure on education as % of GDP, for all levels of education combined\",\"7.02\",\"d\"\r\n",
      "\"2007\",\"Cyprus\",\"Total public expenditure on education as % of GDP, for all levels of education combined\",\"6.95\",\"d\"\r\n",
      "\"2008\",\"Cyprus\",\"Total public expenditure on education as % of GDP, for all levels of education combined\",\"7.45\",\"d\"\r\n",
      "\"2009\",\"Cyprus\",\"Total public expenditure on education as % of GDP, for all levels of education combined\",\"7.98\",\"d\"\r\n",
      "\"2010\",\"Cyprus\",\"Total public expenditure on education as % of GDP, for all levels of education combined\",\"7.92\",\"d\"\r\n",
      "\"2011\",\"Cyprus\",\"Total public expenditure on education as % of GDP, for all levels of education combined\",\"7.87\",\"d\"\r\n",
      "\"2000\",\"Latvia\",\"Total public expenditure on education as % of GDP, for all levels of education combined\",\"5.64\",\"\"\r\n",
      "\"2001\",\"Latvia\",\"Total public expenditure on education as % of GDP, for all levels of education combined\",\"7.22\",\"\"\r\n",
      "\"2002\",\"Latvia\",\"Total public expenditure on education as % of GDP, for all levels of education combined\",\"6.60\",\"\"\r\n",
      "\"2003\",\"Latvia\",\"Total public expenditure on education as % of GDP, for all levels of education combined\",\"5.58\",\"\"\r\n",
      "\"2004\",\"Latvia\",\"Total public expenditure on education as % of GDP, for all levels of education combined\",\"5.12\",\"\"\r\n",
      "\"2005\",\"Latvia\",\"Total public expenditure on education as % of GDP, for all levels of education combined\",\"5.14\",\"\"\r\n",
      "\"2006\",\"Latvia\",\"Total public expenditure on education as % of GDP, for all levels of education combined\",\"5.13\",\"\"\r\n",
      "\"2007\",\"Latvia\",\"Total public expenditure on education as % of GDP, for all levels of education combined\",\"5.07\",\"\"\r\n",
      "\"2008\",\"Latvia\",\"Total public expenditure on education as % of GDP, for all levels of education combined\",\"5.71\",\"\"\r\n",
      "\"2009\",\"Latvia\",\"Total public expenditure on education as % of GDP, for all levels of education combined\",\"5.59\",\"\"\r\n",
      "\"2010\",\"Latvia\",\"Total public expenditure on education as % of GDP, for all levels of education combined\",\"4.96\",\"\"\r\n",
      "\"2011\",\"Latvia\",\"Total public expenditure on education as % of GDP, for all levels of education combined\",\"4.96\",\"\"\r\n",
      "\"2000\",\"Lithuania\",\"Total public expenditure on education as % of GDP, for all levels of education combined\",\"5.63\",\"\"\r\n",
      "\"2001\",\"Lithuania\",\"Total public expenditure on education as % of GDP, for all levels of education combined\",\"5.86\",\"\"\r\n",
      "\"2002\",\"Lithuania\",\"Total public expenditure on education as % of GDP, for all levels of education combined\",\"5.81\",\"\"\r\n",
      "\"2003\",\"Lithuania\",\"Total public expenditure on education as % of GDP, for all levels of education combined\",\"5.14\",\"\"\r\n",
      "\"2004\",\"Lithuania\",\"Total public expenditure on education as % of GDP, for all levels of education combined\",\"5.17\",\"\"\r\n",
      "\"2005\",\"Lithuania\",\"Total public expenditure on education as % of GDP, for all levels of education combined\",\"4.88\",\"\"\r\n",
      "\"2006\",\"Lithuania\",\"Total public expenditure on education as % of GDP, for all levels of education combined\",\"4.82\",\"\"\r\n",
      "\"2007\",\"Lithuania\",\"Total public expenditure on education as % of GDP, for all levels of education combined\",\"4.64\",\"\"\r\n",
      "\"2008\",\"Lithuania\",\"Total public expenditure on education as % of GDP, for all levels of education combined\",\"4.88\",\"\"\r\n",
      "\"2009\",\"Lithuania\",\"Total public expenditure on education as % of GDP, for all levels of education combined\",\"5.64\",\"\"\r\n",
      "\"2010\",\"Lithuania\",\"Total public expenditure on education as % of GDP, for all levels of education combined\",\"5.36\",\"\"\r\n",
      "\"2011\",\"Lithuania\",\"Total public expenditure on education as % of GDP, for all levels of education combined\",\"5.17\",\"\"\r\n",
      "\"2000\",\"Luxembourg\",\"Total public expenditure on education as % of GDP, for all levels of education combined\",\":\",\"\"\r\n",
      "\"2001\",\"Luxembourg\",\"Total public expenditure on education as % of GDP, for all levels of education combined\",\"3.75\",\"d\"\r\n",
      "\"2002\",\"Luxembourg\",\"Total public expenditure on education as % of GDP, for all levels of education combined\",\"3.79\",\"d\"\r\n",
      "\"2003\",\"Luxembourg\",\"Total public expenditure on education as % of GDP, for all levels of education combined\",\"3.77\",\"d\"\r\n",
      "\"2004\",\"Luxembourg\",\"Total public expenditure on education as % of GDP, for all levels of education combined\",\"3.87\",\"d\"\r\n",
      "\"2005\",\"Luxembourg\",\"Total public expenditure on education as % of GDP, for all levels of education combined\",\"3.78\",\"d\"\r\n",
      "\"2006\",\"Luxembourg\",\"Total public expenditure on education as % of GDP, for all levels of education combined\",\"3.41\",\"d\"\r\n",
      "\"2007\",\"Luxembourg\",\"Total public expenditure on education as % of GDP, for all levels of education combined\",\"3.15\",\"d\"\r\n",
      "\"2008\",\"Luxembourg\",\"Total public expenditure on education as % of GDP, for all levels of education combined\",\":\",\"\"\r\n",
      "\"2009\",\"Luxembourg\",\"Total public expenditure on education as % of GDP, for all levels of education combined\",\":\",\"\"\r\n",
      "\"2010\",\"Luxembourg\",\"Total public expenditure on education as % of GDP, for all levels of education combined\",\":\",\"\"\r\n",
      "\"2011\",\"Luxembourg\",\"Total public expenditure on education as % of GDP, for all levels of education combined\",\":\",\"\"\r\n",
      "\"2000\",\"Hungary\",\"Total public expenditure on education as % of GDP, for all levels of education combined\",\"4.50\",\"\"\r\n",
      "\"2001\",\"Hungary\",\"Total public expenditure on education as % of GDP, for all levels of education combined\",\"5.06\",\"\"\r\n",
      "\"2002\",\"Hungary\",\"Total public expenditure on education as % of GDP, for all levels of education combined\",\"5.39\",\"\"\r\n",
      "\"2003\",\"Hungary\",\"Total public expenditure on education as % of GDP, for all levels of education combined\",\"5.91\",\"\"\r\n",
      "\"2004\",\"Hungary\",\"Total public expenditure on education as % of GDP, for all levels of education combined\",\"5.44\",\"\"\r\n",
      "\"2005\",\"Hungary\",\"Total public expenditure on education as % of GDP, for all levels of education combined\",\"5.46\",\"\"\r\n",
      "\"2006\",\"Hungary\",\"Total public expenditure on education as % of GDP, for all levels of education combined\",\"5.44\",\"\"\r\n",
      "\"2007\",\"Hungary\",\"Total public expenditure on education as % of GDP, for all levels of education combined\",\"5.29\",\"\"\r\n",
      "\"2008\",\"Hungary\",\"Total public expenditure on education as % of GDP, for all levels of education combined\",\"5.10\",\"\"\r\n",
      "\"2009\",\"Hungary\",\"Total public expenditure on education as % of GDP, for all levels of education combined\",\"5.12\",\"\"\r\n",
      "\"2010\",\"Hungary\",\"Total public expenditure on education as % of GDP, for all levels of education combined\",\"4.90\",\"\"\r\n",
      "\"2011\",\"Hungary\",\"Total public expenditure on education as % of GDP, for all levels of education combined\",\"4.71\",\"\"\r\n",
      "\"2000\",\"Malta\",\"Total public expenditure on education as % of GDP, for all levels of education combined\",\"4.52\",\"\"\r\n",
      "\"2001\",\"Malta\",\"Total public expenditure on education as % of GDP, for all levels of education combined\",\"4.27\",\"\"\r\n",
      "\"2002\",\"Malta\",\"Total public expenditure on education as % of GDP, for all levels of education combined\",\"4.22\",\"\"\r\n",
      "\"2003\",\"Malta\",\"Total public expenditure on education as % of GDP, for all levels of education combined\",\"4.48\",\"\"\r\n",
      "\"2004\",\"Malta\",\"Total public expenditure on education as % of GDP, for all levels of education combined\",\"4.66\",\"\"\r\n",
      "\"2005\",\"Malta\",\"Total public expenditure on education as % of GDP, for all levels of education combined\",\"6.58\",\"b\"\r\n",
      "\"2006\",\"Malta\",\"Total public expenditure on education as % of GDP, for all levels of education combined\",\"6.45\",\"\"\r\n",
      "\"2007\",\"Malta\",\"Total public expenditure on education as % of GDP, for all levels of education combined\",\"6.18\",\"\"\r\n",
      "\"2008\",\"Malta\",\"Total public expenditure on education as % of GDP, for all levels of education combined\",\"5.72\",\"i\"\r\n",
      "\"2009\",\"Malta\",\"Total public expenditure on education as % of GDP, for all levels of education combined\",\"5.32\",\"\"\r\n",
      "\"2010\",\"Malta\",\"Total public expenditure on education as % of GDP, for all levels of education combined\",\"6.74\",\"\"\r\n",
      "\"2011\",\"Malta\",\"Total public expenditure on education as % of GDP, for all levels of education combined\",\"7.96\",\"\"\r\n",
      "\"2000\",\"Netherlands\",\"Total public expenditure on education as % of GDP, for all levels of education combined\",\"4.98\",\"\"\r\n",
      "\"2001\",\"Netherlands\",\"Total public expenditure on education as % of GDP, for all levels of education combined\",\"5.09\",\"\"\r\n",
      "\"2002\",\"Netherlands\",\"Total public expenditure on education as % of GDP, for all levels of education combined\",\"5.22\",\"\"\r\n",
      "\"2003\",\"Netherlands\",\"Total public expenditure on education as % of GDP, for all levels of education combined\",\"5.47\",\"\"\r\n",
      "\"2004\",\"Netherlands\",\"Total public expenditure on education as % of GDP, for all levels of education combined\",\"5.50\",\"\"\r\n",
      "\"2005\",\"Netherlands\",\"Total public expenditure on education as % of GDP, for all levels of education combined\",\"5.53\",\"\"\r\n",
      "\"2006\",\"Netherlands\",\"Total public expenditure on education as % of GDP, for all levels of education combined\",\"5.50\",\"\"\r\n",
      "\"2007\",\"Netherlands\",\"Total public expenditure on education as % of GDP, for all levels of education combined\",\"5.32\",\"\"\r\n",
      "\"2008\",\"Netherlands\",\"Total public expenditure on education as % of GDP, for all levels of education combined\",\"5.50\",\"\"\r\n",
      "\"2009\",\"Netherlands\",\"Total public expenditure on education as % of GDP, for all levels of education combined\",\"5.95\",\"\"\r\n",
      "\"2010\",\"Netherlands\",\"Total public expenditure on education as % of GDP, for all levels of education combined\",\"5.98\",\"\"\r\n",
      "\"2011\",\"Netherlands\",\"Total public expenditure on education as % of GDP, for all levels of education combined\",\"5.93\",\"\"\r\n",
      "\"2000\",\"Austria\",\"Total public expenditure on education as % of GDP, for all levels of education combined\",\"5.66\",\"\"\r\n",
      "\"2001\",\"Austria\",\"Total public expenditure on education as % of GDP, for all levels of education combined\",\"5.74\",\"\"\r\n",
      "\"2002\",\"Austria\",\"Total public expenditure on education as % of GDP, for all levels of education combined\",\"5.68\",\"\"\r\n",
      "\"2003\",\"Austria\",\"Total public expenditure on education as % of GDP, for all levels of education combined\",\"5.53\",\"\"\r\n",
      "\"2004\",\"Austria\",\"Total public expenditure on education as % of GDP, for all levels of education combined\",\"5.48\",\"\"\r\n",
      "\"2005\",\"Austria\",\"Total public expenditure on education as % of GDP, for all levels of education combined\",\"5.44\",\"\"\r\n",
      "\"2006\",\"Austria\",\"Total public expenditure on education as % of GDP, for all levels of education combined\",\"5.40\",\"\"\r\n",
      "\"2007\",\"Austria\",\"Total public expenditure on education as % of GDP, for all levels of education combined\",\"5.33\",\"\"\r\n",
      "\"2008\",\"Austria\",\"Total public expenditure on education as % of GDP, for all levels of education combined\",\"5.47\",\"\"\r\n",
      "\"2009\",\"Austria\",\"Total public expenditure on education as % of GDP, for all levels of education combined\",\"5.98\",\"\"\r\n",
      "\"2010\",\"Austria\",\"Total public expenditure on education as % of GDP, for all levels of education combined\",\"5.91\",\"\"\r\n",
      "\"2011\",\"Austria\",\"Total public expenditure on education as % of GDP, for all levels of education combined\",\"5.80\",\"\"\r\n",
      "\"2000\",\"Poland\",\"Total public expenditure on education as % of GDP, for all levels of education combined\",\"4.87\",\"i\"\r\n",
      "\"2001\",\"Poland\",\"Total public expenditure on education as % of GDP, for all levels of education combined\",\"5.42\",\"i\"\r\n",
      "\"2002\",\"Poland\",\"Total public expenditure on education as % of GDP, for all levels of education combined\",\"5.41\",\"d\"\r\n",
      "\"2003\",\"Poland\",\"Total public expenditure on education as % of GDP, for all levels of education combined\",\"5.35\",\"d\"\r\n",
      "\"2004\",\"Poland\",\"Total public expenditure on education as % of GDP, for all levels of education combined\",\"5.41\",\"d\"\r\n",
      "\"2005\",\"Poland\",\"Total public expenditure on education as % of GDP, for all levels of education combined\",\"5.47\",\"d\"\r\n",
      "\"2006\",\"Poland\",\"Total public expenditure on education as % of GDP, for all levels of education combined\",\"5.25\",\"d\"\r\n",
      "\"2007\",\"Poland\",\"Total public expenditure on education as % of GDP, for all levels of education combined\",\"4.91\",\"d\"\r\n",
      "\"2008\",\"Poland\",\"Total public expenditure on education as % of GDP, for all levels of education combined\",\"5.08\",\"d\"\r\n",
      "\"2009\",\"Poland\",\"Total public expenditure on education as % of GDP, for all levels of education combined\",\"5.09\",\"d\"\r\n",
      "\"2010\",\"Poland\",\"Total public expenditure on education as % of GDP, for all levels of education combined\",\"5.17\",\"d\"\r\n",
      "\"2011\",\"Poland\",\"Total public expenditure on education as % of GDP, for all levels of education combined\",\"4.94\",\"\"\r\n",
      "\"2000\",\"Portugal\",\"Total public expenditure on education as % of GDP, for all levels of education combined\",\"5.42\",\"d\"\r\n",
      "\"2001\",\"Portugal\",\"Total public expenditure on education as % of GDP, for all levels of education combined\",\"5.39\",\"d\"\r\n",
      "\"2002\",\"Portugal\",\"Total public expenditure on education as % of GDP, for all levels of education combined\",\"5.33\",\"d\"\r\n",
      "\"2003\",\"Portugal\",\"Total public expenditure on education as % of GDP, for all levels of education combined\",\"5.38\",\"d\"\r\n",
      "\"2004\",\"Portugal\",\"Total public expenditure on education as % of GDP, for all levels of education combined\",\"5.10\",\"d\"\r\n",
      "\"2005\",\"Portugal\",\"Total public expenditure on education as % of GDP, for all levels of education combined\",\"5.21\",\"d\"\r\n",
      "\"2006\",\"Portugal\",\"Total public expenditure on education as % of GDP, for all levels of education combined\",\"5.07\",\"d\"\r\n",
      "\"2007\",\"Portugal\",\"Total public expenditure on education as % of GDP, for all levels of education combined\",\"5.10\",\"d\"\r\n",
      "\"2008\",\"Portugal\",\"Total public expenditure on education as % of GDP, for all levels of education combined\",\"4.89\",\"d\"\r\n",
      "\"2009\",\"Portugal\",\"Total public expenditure on education as % of GDP, for all levels of education combined\",\"5.79\",\"d\"\r\n",
      "\"2010\",\"Portugal\",\"Total public expenditure on education as % of GDP, for all levels of education combined\",\"5.62\",\"d\"\r\n",
      "\"2011\",\"Portugal\",\"Total public expenditure on education as % of GDP, for all levels of education combined\",\"5.27\",\"d\"\r\n",
      "\"2000\",\"Romania\",\"Total public expenditure on education as % of GDP, for all levels of education combined\",\"2.88\",\"\"\r\n",
      "\"2001\",\"Romania\",\"Total public expenditure on education as % of GDP, for all levels of education combined\",\"3.25\",\"\"\r\n",
      "\"2002\",\"Romania\",\"Total public expenditure on education as % of GDP, for all levels of education combined\",\"3.51\",\"\"\r\n",
      "\"2003\",\"Romania\",\"Total public expenditure on education as % of GDP, for all levels of education combined\",\"3.45\",\"\"\r\n",
      "\"2004\",\"Romania\",\"Total public expenditure on education as % of GDP, for all levels of education combined\",\"3.28\",\"\"\r\n",
      "\"2005\",\"Romania\",\"Total public expenditure on education as % of GDP, for all levels of education combined\",\"3.48\",\"\"\r\n",
      "\"2006\",\"Romania\",\"Total public expenditure on education as % of GDP, for all levels of education combined\",\":\",\"u\"\r\n",
      "\"2007\",\"Romania\",\"Total public expenditure on education as % of GDP, for all levels of education combined\",\"4.25\",\"\"\r\n",
      "\"2008\",\"Romania\",\"Total public expenditure on education as % of GDP, for all levels of education combined\",\":\",\"u\"\r\n",
      "\"2009\",\"Romania\",\"Total public expenditure on education as % of GDP, for all levels of education combined\",\"4.24\",\"\"\r\n",
      "\"2010\",\"Romania\",\"Total public expenditure on education as % of GDP, for all levels of education combined\",\"3.53\",\"\"\r\n",
      "\"2011\",\"Romania\",\"Total public expenditure on education as % of GDP, for all levels of education combined\",\"3.07\",\"\"\r\n",
      "\"2000\",\"Slovenia\",\"Total public expenditure on education as % of GDP, for all levels of education combined\",\":\",\"\"\r\n",
      "\"2001\",\"Slovenia\",\"Total public expenditure on education as % of GDP, for all levels of education combined\",\"5.86\",\"\"\r\n",
      "\"2002\",\"Slovenia\",\"Total public expenditure on education as % of GDP, for all levels of education combined\",\"5.76\",\"\"\r\n",
      "\"2003\",\"Slovenia\",\"Total public expenditure on education as % of GDP, for all levels of education combined\",\"5.80\",\"\"\r\n",
      "\"2004\",\"Slovenia\",\"Total public expenditure on education as % of GDP, for all levels of education combined\",\"5.74\",\"\"\r\n",
      "\"2005\",\"Slovenia\",\"Total public expenditure on education as % of GDP, for all levels of education combined\",\"5.73\",\"\"\r\n",
      "\"2006\",\"Slovenia\",\"Total public expenditure on education as % of GDP, for all levels of education combined\",\"5.72\",\"\"\r\n",
      "\"2007\",\"Slovenia\",\"Total public expenditure on education as % of GDP, for all levels of education combined\",\"5.15\",\"\"\r\n",
      "\"2008\",\"Slovenia\",\"Total public expenditure on education as % of GDP, for all levels of education combined\",\"5.20\",\"\"\r\n",
      "\"2009\",\"Slovenia\",\"Total public expenditure on education as % of GDP, for all levels of education combined\",\"5.69\",\"\"\r\n",
      "\"2010\",\"Slovenia\",\"Total public expenditure on education as % of GDP, for all levels of education combined\",\"5.68\",\"\"\r\n",
      "\"2011\",\"Slovenia\",\"Total public expenditure on education as % of GDP, for all levels of education combined\",\"5.68\",\"\"\r\n",
      "\"2000\",\"Slovakia\",\"Total public expenditure on education as % of GDP, for all levels of education combined\",\"3.92\",\"i\"\r\n",
      "\"2001\",\"Slovakia\",\"Total public expenditure on education as % of GDP, for all levels of education combined\",\"3.99\",\"d\"\r\n",
      "\"2002\",\"Slovakia\",\"Total public expenditure on education as % of GDP, for all levels of education combined\",\"4.31\",\"d\"\r\n",
      "\"2003\",\"Slovakia\",\"Total public expenditure on education as % of GDP, for all levels of education combined\",\"4.30\",\"d\"\r\n",
      "\"2004\",\"Slovakia\",\"Total public expenditure on education as % of GDP, for all levels of education combined\",\"4.19\",\"d\"\r\n",
      "\"2005\",\"Slovakia\",\"Total public expenditure on education as % of GDP, for all levels of education combined\",\"3.85\",\"d\"\r\n",
      "\"2006\",\"Slovakia\",\"Total public expenditure on education as % of GDP, for all levels of education combined\",\"3.80\",\"d\"\r\n",
      "\"2007\",\"Slovakia\",\"Total public expenditure on education as % of GDP, for all levels of education combined\",\"3.62\",\"d\"\r\n",
      "\"2008\",\"Slovakia\",\"Total public expenditure on education as % of GDP, for all levels of education combined\",\"3.61\",\"d\"\r\n",
      "\"2009\",\"Slovakia\",\"Total public expenditure on education as % of GDP, for all levels of education combined\",\"4.09\",\"d\"\r\n",
      "\"2010\",\"Slovakia\",\"Total public expenditure on education as % of GDP, for all levels of education combined\",\"4.22\",\"d\"\r\n",
      "\"2011\",\"Slovakia\",\"Total public expenditure on education as % of GDP, for all levels of education combined\",\"4.06\",\"d\"\r\n",
      "\"2000\",\"Finland\",\"Total public expenditure on education as % of GDP, for all levels of education combined\",\"5.89\",\"\"\r\n",
      "\"2001\",\"Finland\",\"Total public expenditure on education as % of GDP, for all levels of education combined\",\"6.06\",\"\"\r\n",
      "\"2002\",\"Finland\",\"Total public expenditure on education as % of GDP, for all levels of education combined\",\"6.22\",\"\"\r\n",
      "\"2003\",\"Finland\",\"Total public expenditure on education as % of GDP, for all levels of education combined\",\"6.43\",\"\"\r\n",
      "\"2004\",\"Finland\",\"Total public expenditure on education as % of GDP, for all levels of education combined\",\"6.42\",\"\"\r\n",
      "\"2005\",\"Finland\",\"Total public expenditure on education as % of GDP, for all levels of education combined\",\"6.30\",\"\"\r\n",
      "\"2006\",\"Finland\",\"Total public expenditure on education as % of GDP, for all levels of education combined\",\"6.18\",\"\"\r\n",
      "\"2007\",\"Finland\",\"Total public expenditure on education as % of GDP, for all levels of education combined\",\"5.90\",\"\"\r\n",
      "\"2008\",\"Finland\",\"Total public expenditure on education as % of GDP, for all levels of education combined\",\"6.10\",\"\"\r\n",
      "\"2009\",\"Finland\",\"Total public expenditure on education as % of GDP, for all levels of education combined\",\"6.81\",\"\"\r\n",
      "\"2010\",\"Finland\",\"Total public expenditure on education as % of GDP, for all levels of education combined\",\"6.85\",\"\"\r\n",
      "\"2011\",\"Finland\",\"Total public expenditure on education as % of GDP, for all levels of education combined\",\"6.76\",\"\"\r\n"
     ]
    }
   ],
   "source": [
    "!cat educ_figdp_1_Data.csv"
   ]
  },
  {
   "cell_type": "code",
   "execution_count": 3,
   "metadata": {
    "scrolled": true
   },
   "outputs": [
    {
     "data": {
      "text/html": [
       "<div>\n",
       "<style scoped>\n",
       "    .dataframe tbody tr th:only-of-type {\n",
       "        vertical-align: middle;\n",
       "    }\n",
       "\n",
       "    .dataframe tbody tr th {\n",
       "        vertical-align: top;\n",
       "    }\n",
       "\n",
       "    .dataframe thead th {\n",
       "        text-align: right;\n",
       "    }\n",
       "</style>\n",
       "<table border=\"1\" class=\"dataframe\">\n",
       "  <thead>\n",
       "    <tr style=\"text-align: right;\">\n",
       "      <th></th>\n",
       "      <th>TIME</th>\n",
       "      <th>GEO</th>\n",
       "      <th>Value</th>\n",
       "    </tr>\n",
       "  </thead>\n",
       "  <tbody>\n",
       "    <tr>\n",
       "      <th>0</th>\n",
       "      <td>2000</td>\n",
       "      <td>European Union (28 countries)</td>\n",
       "      <td>NaN</td>\n",
       "    </tr>\n",
       "    <tr>\n",
       "      <th>1</th>\n",
       "      <td>2001</td>\n",
       "      <td>European Union (28 countries)</td>\n",
       "      <td>NaN</td>\n",
       "    </tr>\n",
       "    <tr>\n",
       "      <th>2</th>\n",
       "      <td>2002</td>\n",
       "      <td>European Union (28 countries)</td>\n",
       "      <td>5.00</td>\n",
       "    </tr>\n",
       "    <tr>\n",
       "      <th>3</th>\n",
       "      <td>2003</td>\n",
       "      <td>European Union (28 countries)</td>\n",
       "      <td>5.03</td>\n",
       "    </tr>\n",
       "    <tr>\n",
       "      <th>4</th>\n",
       "      <td>2004</td>\n",
       "      <td>European Union (28 countries)</td>\n",
       "      <td>4.95</td>\n",
       "    </tr>\n",
       "    <tr>\n",
       "      <th>...</th>\n",
       "      <td>...</td>\n",
       "      <td>...</td>\n",
       "      <td>...</td>\n",
       "    </tr>\n",
       "    <tr>\n",
       "      <th>379</th>\n",
       "      <td>2007</td>\n",
       "      <td>Finland</td>\n",
       "      <td>5.90</td>\n",
       "    </tr>\n",
       "    <tr>\n",
       "      <th>380</th>\n",
       "      <td>2008</td>\n",
       "      <td>Finland</td>\n",
       "      <td>6.10</td>\n",
       "    </tr>\n",
       "    <tr>\n",
       "      <th>381</th>\n",
       "      <td>2009</td>\n",
       "      <td>Finland</td>\n",
       "      <td>6.81</td>\n",
       "    </tr>\n",
       "    <tr>\n",
       "      <th>382</th>\n",
       "      <td>2010</td>\n",
       "      <td>Finland</td>\n",
       "      <td>6.85</td>\n",
       "    </tr>\n",
       "    <tr>\n",
       "      <th>383</th>\n",
       "      <td>2011</td>\n",
       "      <td>Finland</td>\n",
       "      <td>6.76</td>\n",
       "    </tr>\n",
       "  </tbody>\n",
       "</table>\n",
       "<p>384 rows × 3 columns</p>\n",
       "</div>"
      ],
      "text/plain": [
       "     TIME                            GEO  Value\n",
       "0    2000  European Union (28 countries)    NaN\n",
       "1    2001  European Union (28 countries)    NaN\n",
       "2    2002  European Union (28 countries)   5.00\n",
       "3    2003  European Union (28 countries)   5.03\n",
       "4    2004  European Union (28 countries)   4.95\n",
       "..    ...                            ...    ...\n",
       "379  2007                        Finland   5.90\n",
       "380  2008                        Finland   6.10\n",
       "381  2009                        Finland   6.81\n",
       "382  2010                        Finland   6.85\n",
       "383  2011                        Finland   6.76\n",
       "\n",
       "[384 rows x 3 columns]"
      ]
     },
     "execution_count": 3,
     "metadata": {},
     "output_type": "execute_result"
    }
   ],
   "source": [
    "edu = pd.read_csv('educ_figdp_1_Data.csv',\n",
    "                  na_values=':', usecols=['TIME', 'GEO', 'Value'])\n",
    "edu"
   ]
  },
  {
   "cell_type": "markdown",
   "metadata": {},
   "source": [
    "## Visualização dos dados"
   ]
  },
  {
   "cell_type": "code",
   "execution_count": 4,
   "metadata": {},
   "outputs": [
    {
     "data": {
      "text/html": [
       "<div>\n",
       "<style scoped>\n",
       "    .dataframe tbody tr th:only-of-type {\n",
       "        vertical-align: middle;\n",
       "    }\n",
       "\n",
       "    .dataframe tbody tr th {\n",
       "        vertical-align: top;\n",
       "    }\n",
       "\n",
       "    .dataframe thead th {\n",
       "        text-align: right;\n",
       "    }\n",
       "</style>\n",
       "<table border=\"1\" class=\"dataframe\">\n",
       "  <thead>\n",
       "    <tr style=\"text-align: right;\">\n",
       "      <th></th>\n",
       "      <th>TIME</th>\n",
       "      <th>GEO</th>\n",
       "      <th>Value</th>\n",
       "    </tr>\n",
       "  </thead>\n",
       "  <tbody>\n",
       "    <tr>\n",
       "      <th>0</th>\n",
       "      <td>2000</td>\n",
       "      <td>European Union (28 countries)</td>\n",
       "      <td>NaN</td>\n",
       "    </tr>\n",
       "    <tr>\n",
       "      <th>1</th>\n",
       "      <td>2001</td>\n",
       "      <td>European Union (28 countries)</td>\n",
       "      <td>NaN</td>\n",
       "    </tr>\n",
       "    <tr>\n",
       "      <th>2</th>\n",
       "      <td>2002</td>\n",
       "      <td>European Union (28 countries)</td>\n",
       "      <td>5.00</td>\n",
       "    </tr>\n",
       "    <tr>\n",
       "      <th>3</th>\n",
       "      <td>2003</td>\n",
       "      <td>European Union (28 countries)</td>\n",
       "      <td>5.03</td>\n",
       "    </tr>\n",
       "    <tr>\n",
       "      <th>4</th>\n",
       "      <td>2004</td>\n",
       "      <td>European Union (28 countries)</td>\n",
       "      <td>4.95</td>\n",
       "    </tr>\n",
       "  </tbody>\n",
       "</table>\n",
       "</div>"
      ],
      "text/plain": [
       "   TIME                            GEO  Value\n",
       "0  2000  European Union (28 countries)    NaN\n",
       "1  2001  European Union (28 countries)    NaN\n",
       "2  2002  European Union (28 countries)   5.00\n",
       "3  2003  European Union (28 countries)   5.03\n",
       "4  2004  European Union (28 countries)   4.95"
      ]
     },
     "execution_count": 4,
     "metadata": {},
     "output_type": "execute_result"
    }
   ],
   "source": [
    "edu.head()"
   ]
  },
  {
   "cell_type": "code",
   "execution_count": 5,
   "metadata": {},
   "outputs": [
    {
     "data": {
      "text/html": [
       "<div>\n",
       "<style scoped>\n",
       "    .dataframe tbody tr th:only-of-type {\n",
       "        vertical-align: middle;\n",
       "    }\n",
       "\n",
       "    .dataframe tbody tr th {\n",
       "        vertical-align: top;\n",
       "    }\n",
       "\n",
       "    .dataframe thead th {\n",
       "        text-align: right;\n",
       "    }\n",
       "</style>\n",
       "<table border=\"1\" class=\"dataframe\">\n",
       "  <thead>\n",
       "    <tr style=\"text-align: right;\">\n",
       "      <th></th>\n",
       "      <th>TIME</th>\n",
       "      <th>GEO</th>\n",
       "      <th>Value</th>\n",
       "    </tr>\n",
       "  </thead>\n",
       "  <tbody>\n",
       "    <tr>\n",
       "      <th>379</th>\n",
       "      <td>2007</td>\n",
       "      <td>Finland</td>\n",
       "      <td>5.90</td>\n",
       "    </tr>\n",
       "    <tr>\n",
       "      <th>380</th>\n",
       "      <td>2008</td>\n",
       "      <td>Finland</td>\n",
       "      <td>6.10</td>\n",
       "    </tr>\n",
       "    <tr>\n",
       "      <th>381</th>\n",
       "      <td>2009</td>\n",
       "      <td>Finland</td>\n",
       "      <td>6.81</td>\n",
       "    </tr>\n",
       "    <tr>\n",
       "      <th>382</th>\n",
       "      <td>2010</td>\n",
       "      <td>Finland</td>\n",
       "      <td>6.85</td>\n",
       "    </tr>\n",
       "    <tr>\n",
       "      <th>383</th>\n",
       "      <td>2011</td>\n",
       "      <td>Finland</td>\n",
       "      <td>6.76</td>\n",
       "    </tr>\n",
       "  </tbody>\n",
       "</table>\n",
       "</div>"
      ],
      "text/plain": [
       "     TIME      GEO  Value\n",
       "379  2007  Finland   5.90\n",
       "380  2008  Finland   6.10\n",
       "381  2009  Finland   6.81\n",
       "382  2010  Finland   6.85\n",
       "383  2011  Finland   6.76"
      ]
     },
     "execution_count": 5,
     "metadata": {},
     "output_type": "execute_result"
    }
   ],
   "source": [
    "edu.tail()"
   ]
  },
  {
   "cell_type": "code",
   "execution_count": 6,
   "metadata": {},
   "outputs": [
    {
     "data": {
      "text/plain": [
       "Index(['TIME', 'GEO', 'Value'], dtype='object')"
      ]
     },
     "execution_count": 6,
     "metadata": {},
     "output_type": "execute_result"
    }
   ],
   "source": [
    "edu.columns "
   ]
  },
  {
   "cell_type": "code",
   "execution_count": null,
   "metadata": {},
   "outputs": [],
   "source": [
    "edu.index"
   ]
  },
  {
   "cell_type": "code",
   "execution_count": null,
   "metadata": {},
   "outputs": [],
   "source": [
    "edu.values"
   ]
  },
  {
   "cell_type": "code",
   "execution_count": 7,
   "metadata": {},
   "outputs": [
    {
     "data": {
      "text/html": [
       "<div>\n",
       "<style scoped>\n",
       "    .dataframe tbody tr th:only-of-type {\n",
       "        vertical-align: middle;\n",
       "    }\n",
       "\n",
       "    .dataframe tbody tr th {\n",
       "        vertical-align: top;\n",
       "    }\n",
       "\n",
       "    .dataframe thead th {\n",
       "        text-align: right;\n",
       "    }\n",
       "</style>\n",
       "<table border=\"1\" class=\"dataframe\">\n",
       "  <thead>\n",
       "    <tr style=\"text-align: right;\">\n",
       "      <th></th>\n",
       "      <th>TIME</th>\n",
       "      <th>Value</th>\n",
       "    </tr>\n",
       "  </thead>\n",
       "  <tbody>\n",
       "    <tr>\n",
       "      <th>count</th>\n",
       "      <td>384.000000</td>\n",
       "      <td>361.000000</td>\n",
       "    </tr>\n",
       "    <tr>\n",
       "      <th>mean</th>\n",
       "      <td>2005.500000</td>\n",
       "      <td>5.203989</td>\n",
       "    </tr>\n",
       "    <tr>\n",
       "      <th>std</th>\n",
       "      <td>3.456556</td>\n",
       "      <td>1.021694</td>\n",
       "    </tr>\n",
       "    <tr>\n",
       "      <th>min</th>\n",
       "      <td>2000.000000</td>\n",
       "      <td>2.880000</td>\n",
       "    </tr>\n",
       "    <tr>\n",
       "      <th>25%</th>\n",
       "      <td>2002.750000</td>\n",
       "      <td>4.620000</td>\n",
       "    </tr>\n",
       "    <tr>\n",
       "      <th>50%</th>\n",
       "      <td>2005.500000</td>\n",
       "      <td>5.060000</td>\n",
       "    </tr>\n",
       "    <tr>\n",
       "      <th>75%</th>\n",
       "      <td>2008.250000</td>\n",
       "      <td>5.660000</td>\n",
       "    </tr>\n",
       "    <tr>\n",
       "      <th>max</th>\n",
       "      <td>2011.000000</td>\n",
       "      <td>8.810000</td>\n",
       "    </tr>\n",
       "  </tbody>\n",
       "</table>\n",
       "</div>"
      ],
      "text/plain": [
       "              TIME       Value\n",
       "count   384.000000  361.000000\n",
       "mean   2005.500000    5.203989\n",
       "std       3.456556    1.021694\n",
       "min    2000.000000    2.880000\n",
       "25%    2002.750000    4.620000\n",
       "50%    2005.500000    5.060000\n",
       "75%    2008.250000    5.660000\n",
       "max    2011.000000    8.810000"
      ]
     },
     "execution_count": 7,
     "metadata": {},
     "output_type": "execute_result"
    }
   ],
   "source": [
    "edu.describe()"
   ]
  },
  {
   "cell_type": "markdown",
   "metadata": {},
   "source": [
    "## Seleção\n"
   ]
  },
  {
   "cell_type": "code",
   "execution_count": null,
   "metadata": {},
   "outputs": [],
   "source": [
    "edu['Value']"
   ]
  },
  {
   "cell_type": "code",
   "execution_count": null,
   "metadata": {},
   "outputs": [],
   "source": [
    "edu.iloc[:, 0:2+1]"
   ]
  },
  {
   "cell_type": "markdown",
   "metadata": {},
   "source": [
    "## edu.loc[300]"
   ]
  },
  {
   "cell_type": "markdown",
   "metadata": {},
   "source": [
    "## Filtragem"
   ]
  },
  {
   "cell_type": "code",
   "execution_count": 8,
   "metadata": {},
   "outputs": [
    {
     "data": {
      "text/plain": [
       "0      False\n",
       "1      False\n",
       "2      False\n",
       "3      False\n",
       "4      False\n",
       "       ...  \n",
       "379    False\n",
       "380    False\n",
       "381    False\n",
       "382    False\n",
       "383    False\n",
       "Name: Value, Length: 384, dtype: bool"
      ]
     },
     "execution_count": 8,
     "metadata": {},
     "output_type": "execute_result"
    }
   ],
   "source": [
    "edu['Value'] > 7.0"
   ]
  },
  {
   "cell_type": "code",
   "execution_count": 9,
   "metadata": {
    "scrolled": true
   },
   "outputs": [
    {
     "data": {
      "text/html": [
       "<div>\n",
       "<style scoped>\n",
       "    .dataframe tbody tr th:only-of-type {\n",
       "        vertical-align: middle;\n",
       "    }\n",
       "\n",
       "    .dataframe tbody tr th {\n",
       "        vertical-align: top;\n",
       "    }\n",
       "\n",
       "    .dataframe thead th {\n",
       "        text-align: right;\n",
       "    }\n",
       "</style>\n",
       "<table border=\"1\" class=\"dataframe\">\n",
       "  <thead>\n",
       "    <tr style=\"text-align: right;\">\n",
       "      <th></th>\n",
       "      <th>TIME</th>\n",
       "      <th>GEO</th>\n",
       "      <th>Value</th>\n",
       "    </tr>\n",
       "  </thead>\n",
       "  <tbody>\n",
       "    <tr>\n",
       "      <th>225</th>\n",
       "      <td>2009</td>\n",
       "      <td>Cyprus</td>\n",
       "      <td>7.98</td>\n",
       "    </tr>\n",
       "    <tr>\n",
       "      <th>226</th>\n",
       "      <td>2010</td>\n",
       "      <td>Cyprus</td>\n",
       "      <td>7.92</td>\n",
       "    </tr>\n",
       "    <tr>\n",
       "      <th>227</th>\n",
       "      <td>2011</td>\n",
       "      <td>Cyprus</td>\n",
       "      <td>7.87</td>\n",
       "    </tr>\n",
       "    <tr>\n",
       "      <th>229</th>\n",
       "      <td>2001</td>\n",
       "      <td>Latvia</td>\n",
       "      <td>7.22</td>\n",
       "    </tr>\n",
       "    <tr>\n",
       "      <th>287</th>\n",
       "      <td>2011</td>\n",
       "      <td>Malta</td>\n",
       "      <td>7.96</td>\n",
       "    </tr>\n",
       "  </tbody>\n",
       "</table>\n",
       "</div>"
      ],
      "text/plain": [
       "     TIME     GEO  Value\n",
       "225  2009  Cyprus   7.98\n",
       "226  2010  Cyprus   7.92\n",
       "227  2011  Cyprus   7.87\n",
       "229  2001  Latvia   7.22\n",
       "287  2011   Malta   7.96"
      ]
     },
     "execution_count": 9,
     "metadata": {},
     "output_type": "execute_result"
    }
   ],
   "source": [
    "edu[edu['Value'] >= 7.0].tail()"
   ]
  },
  {
   "cell_type": "code",
   "execution_count": 10,
   "metadata": {},
   "outputs": [
    {
     "data": {
      "text/plain": [
       "0    European Union (28 countries)\n",
       "1    European Union (28 countries)\n",
       "2    European Union (28 countries)\n",
       "3    European Union (28 countries)\n",
       "4    European Union (28 countries)\n",
       "Name: GEO, dtype: object"
      ]
     },
     "execution_count": 10,
     "metadata": {},
     "output_type": "execute_result"
    }
   ],
   "source": [
    "edu.GEO.head()"
   ]
  },
  {
   "cell_type": "markdown",
   "metadata": {},
   "source": [
    "## Filtrar valores faltantes"
   ]
  },
  {
   "cell_type": "code",
   "execution_count": null,
   "metadata": {},
   "outputs": [],
   "source": [
    "edu[edu['Value'].isnull()].tail()"
   ]
  },
  {
   "cell_type": "markdown",
   "metadata": {},
   "source": [
    "## Manipulando dados"
   ]
  },
  {
   "cell_type": "markdown",
   "metadata": {},
   "source": [
    "Uma vez que sabemos como selecionar os dados desejados, a próxima coisa que precisamos saber é como manipular os dados. Uma das coisas mais simples que podemos fazer é operar com colunas ou linhas usando funções de agregação. A lista a seguir mostra as funções de agregação mais comuns.\n",
    "\n",
    "| Function  | Description | \n",
    "|-----------|-------------|\n",
    "| count()   |Número de observações não nulas|  \n",
    "| sum()     |Soma dos valores|\n",
    "| mean()    |Média dos valores            | \n",
    "| median()  |Mediana dos valores             |\n",
    "| min()     |valo mínimo|\n",
    "| max()     |Valor máximo|\n",
    "| prod()    |Produto dos valores|\n",
    "| std()     |Desvio padrão|\n",
    "| var()     |Variância|\n",
    "\n",
    "O resultado de todas essas funções aplicadas a uma linha ou coluna é sempre um número. Enquanto isso, se uma função for aplicada a um DataFrame ou a uma seleção de linhas e colunas, você pode especificar se a função deve ser aplicada às linhas de cada coluna (colocando a palavra-chave **axis = 0** na chamada função), ou deve ser aplicado nas colunas de cada linha (colocando a palavra-chave **axis = 1** na chamada da função)."
   ]
  },
  {
   "cell_type": "code",
   "execution_count": null,
   "metadata": {},
   "outputs": [],
   "source": [
    "edu.max(axis=0)"
   ]
  },
  {
   "cell_type": "code",
   "execution_count": null,
   "metadata": {},
   "outputs": [],
   "source": [
    "print('Pandas max function:', edu['Value'].max())"
   ]
  },
  {
   "cell_type": "code",
   "execution_count": null,
   "metadata": {},
   "outputs": [],
   "source": [
    "s = edu['Value'] / 100\n",
    "s.head()"
   ]
  },
  {
   "cell_type": "markdown",
   "metadata": {},
   "source": [
    "Podemos aplicar qualquer função a um DataFrame ou Series apenas colocando seu nome como argumento do método *apply*. Por exemplo, no código a seguir, aplicamos a função *sqrt* da biblioteca numpy para calcular a raiz quadrada de cada valor na coluna 'Value'."
   ]
  },
  {
   "cell_type": "code",
   "execution_count": null,
   "metadata": {},
   "outputs": [],
   "source": [
    "s = edu['Value'].apply(np.sqrt)\n",
    "s.head()"
   ]
  },
  {
   "cell_type": "markdown",
   "metadata": {},
   "source": [
    "Se precisarmos aplicar uma função específica, podemos escrever uma função *in-line*, comumente conhecida como função-𝜆. Uma função-𝜆 é uma função sem nome. É necessário apenas especificar os parâmetros que ela recebe e usar a palavra-chave lambda. No próximo exemplo, apenas um parâmetro é necessário, que será o valor de cada elemento na coluna 'Value'. O valor que a função retorna será o quadrado desse valor"
   ]
  },
  {
   "cell_type": "code",
   "execution_count": null,
   "metadata": {},
   "outputs": [],
   "source": [
    "s = edu['Value'].apply(lambda d: d**2)\n",
    "s.head()"
   ]
  },
  {
   "cell_type": "markdown",
   "metadata": {},
   "source": [
    "### Normalização"
   ]
  },
  {
   "cell_type": "markdown",
   "metadata": {},
   "source": [
    "Outra operação básica de manipulação é definir novos valores em nosso DataFrame. Isso pode ser feito diretamente usando o operador de atribuição = em um DataFrame. Isso produzirá uma nova coluna no DataFrame após todas as outras. Você deve estar ciente de que se já existir uma coluna com o mesmo nome, os valores anteriores serão substituídos. No exemplo a seguir, criamos uma nova colun que resulta da divisão da coluna 'Value' pelo valor máximo da mesma, criando uma nova coluna chamada 'ValueNorm'."
   ]
  },
  {
   "cell_type": "code",
   "execution_count": null,
   "metadata": {},
   "outputs": [],
   "source": [
    "edu['ValueNorm'] = edu['Value'] / edu['Value'].max()\n",
    "edu.tail()"
   ]
  },
  {
   "cell_type": "code",
   "execution_count": null,
   "metadata": {},
   "outputs": [],
   "source": [
    "edu.drop('ValueNorm', axis=1, inplace=True)\n",
    "edu.head()"
   ]
  },
  {
   "cell_type": "markdown",
   "metadata": {},
   "source": [
    "### Concatenação de linhas"
   ]
  },
  {
   "cell_type": "code",
   "execution_count": null,
   "metadata": {},
   "outputs": [],
   "source": [
    "edu = edu.append({'TIME': 2000, 'Value': 5.00, 'GEO': 'abc'}, ignore_index=True)\n",
    "edu.tail()"
   ]
  },
  {
   "cell_type": "markdown",
   "metadata": {},
   "source": [
    "### Remoção de linhas"
   ]
  },
  {
   "cell_type": "code",
   "execution_count": null,
   "metadata": {},
   "outputs": [],
   "source": [
    "edu.drop(max(edu.index), axis=0, inplace=True)\n",
    "edu.tail()"
   ]
  },
  {
   "cell_type": "code",
   "execution_count": null,
   "metadata": {},
   "outputs": [],
   "source": [
    "eduDrop = edu.dropna(how='any', subset=['Value'], axis=0)\n",
    "eduDrop.head()"
   ]
  },
  {
   "cell_type": "code",
   "execution_count": null,
   "metadata": {},
   "outputs": [],
   "source": [
    "eduFilled = edu.fillna(value={'Value': 0})\n",
    "eduFilled.head()"
   ]
  },
  {
   "cell_type": "markdown",
   "metadata": {},
   "source": [
    "## Ordenação"
   ]
  },
  {
   "cell_type": "code",
   "execution_count": null,
   "metadata": {
    "scrolled": false
   },
   "outputs": [],
   "source": [
    "edu.sort_values(by='Value', ascending=False, inplace=True)\n",
    "edu.head()"
   ]
  },
  {
   "cell_type": "code",
   "execution_count": null,
   "metadata": {},
   "outputs": [],
   "source": [
    "edu.sort_index(axis=0, ascending=True, inplace=True)\n",
    "edu.head()"
   ]
  },
  {
   "cell_type": "markdown",
   "metadata": {},
   "source": [
    "## Agrupamento de dados"
   ]
  },
  {
   "cell_type": "code",
   "execution_count": null,
   "metadata": {},
   "outputs": [],
   "source": [
    "group = edu[['GEO', 'Value']].groupby('GEO').mean()\n",
    "group.head()"
   ]
  },
  {
   "cell_type": "markdown",
   "metadata": {},
   "source": [
    "## Reorganizando dados\n"
   ]
  },
  {
   "cell_type": "markdown",
   "metadata": {},
   "source": [
    "Até agora, nossos índices eram apenas uma numeração de linhas sem muito significado. Podemos transformar a disposição de nossos dados, redistribuindo os índices e colunas para uma melhor manipulação dos dados, o que normalmente leva a um melhor desempenho. Podemos reorganizar os dados usando a função pivot_table. Aqui, podemos especificar quais colunas serão os novos índices, os novos valores e as novas colunas.\n",
    "\n",
    "Por exemplo, imagine que queremos transformar nosso DataFrame em uma estrutura semelhante a uma planilha com os nomes dos países como o índice, enquanto as colunas serão os anos começando em 2006 e os valores serão a coluna 'Valor' anterior. Para fazer isso, primeiro precisamos filtrar os dados e, em seguida, dinamizá-los desta forma:"
   ]
  },
  {
   "cell_type": "code",
   "execution_count": null,
   "metadata": {},
   "outputs": [],
   "source": [
    "edu"
   ]
  },
  {
   "cell_type": "code",
   "execution_count": null,
   "metadata": {},
   "outputs": [],
   "source": [
    "filtered_data = edu[edu['TIME'] > 2005]\n",
    "pivedu = pd.pivot_table(filtered_data, values='Value',\n",
    "                        index=['GEO'], columns=['TIME'])\n",
    "pivedu.head()"
   ]
  },
  {
   "cell_type": "markdown",
   "metadata": {},
   "source": [
    "Agora nós podemos usar o novo índice para selecionar linhas específicas pelo rótulo, usando o operador **loc**."
   ]
  },
  {
   "cell_type": "code",
   "execution_count": null,
   "metadata": {},
   "outputs": [],
   "source": [
    "pivedu.loc[['Spain', 'Portugal'], [2007, 2008, 2009]]"
   ]
  },
  {
   "cell_type": "markdown",
   "metadata": {},
   "source": [
    "## Ranqueamento"
   ]
  },
  {
   "cell_type": "markdown",
   "metadata": {},
   "source": [
    "Outro recurso de visualização útil é classificar (ranquear) os dados. Por exemplo, gostaríamos de saber como cada país é classificado por ano. Para ver isso, usaremos a função de ranqueamento do pandas. Mas, primeiro, precisamos limpar um pouco nossa tabela para que ela só tenha países reais com dados reais. Para fazer isso, primeiro eliminamos as entradas da área do Euro e encurtamos a entrada do nome Alemanha, usando a função renomear e, em seguida, eliminamos todas as linhas contendo qualquer valor nulo, usando a função dropna.\n",
    "\n",
    "Agora podemos fazer o ranqueamento. Observe que o parâmetro **ascending = False** faz a classificação ir dos valores mais altos para os valores mais baixos. A função de ranqueamento suporta diferentes métodos de desempate, especificados com o parâmetro **method**. No nosso caso, utilizamos o primeiro método, no qual as classificações são atribuídas na ordem em que aparecem no array, evitando lacunas entre as classificações."
   ]
  },
  {
   "cell_type": "code",
   "execution_count": null,
   "metadata": {},
   "outputs": [],
   "source": [
    "pivedu = pivedu.drop(['Euro area (13 countries)',\n",
    "                      'Euro area (15 countries)',\n",
    "                      'Euro area (17 countries)',\n",
    "                      'Euro area (18 countries)',\n",
    "                      'European Union (25 countries)',\n",
    "                      'European Union (27 countries)',\n",
    "                      'European Union (28 countries)'\n",
    "                      ], axis=0)\n",
    "pivedu = pivedu.rename(\n",
    "    index={'Germany (until 1990 former territory of the FRG)': 'Germany'})\n",
    "pivedu = pivedu.dropna()\n",
    "pivedu.rank(ascending=False, method='first').head()"
   ]
  },
  {
   "cell_type": "markdown",
   "metadata": {},
   "source": [
    "Se quisermos fazer um ranking global levando em consideração todos os anos, podemos somar todas as colunas e classificar o resultado. Em seguida, podemos classificar os valores resultantes para recuperar os 5 principais países dos últimos 6 anos, desta forma:"
   ]
  },
  {
   "cell_type": "code",
   "execution_count": null,
   "metadata": {},
   "outputs": [],
   "source": [
    "totalSum = pivedu.sum(axis=1)\n",
    "totalSum.rank(ascending=False, method='dense').sort_values()"
   ]
  },
  {
   "cell_type": "markdown",
   "metadata": {},
   "source": [
    "## Geração de gráficos"
   ]
  },
  {
   "cell_type": "markdown",
   "metadata": {},
   "source": [
    "DataFrames e Series podem ser plotados usando a função plot, que usa a biblioteca Matplotlib.\n",
    "\n",
    "Por exemplo, se quisermos plotar os valores acumulados para cada país nos últimos 6 anos, podemos pegar a Série obtida no exemplo anterior e plotar diretamente chamando a função plot.\n",
    "\n",
    "Observe que se quisermos que as barras sejam ordenadas do valor mais alto ao mais baixo, precisamos primeiro classificar os valores na Série. O parâmetro **kind** usado na função de plot define que tipo de gráfico será usado. No nosso caso, um gráfico de barras. O parâmetro **style** se refere às propriedades de estilo do gráfico, em nosso caso, a cor das barras é definida como b (azul). O parâmetro **alfa** pode ser incluído por meio de um parâmetro que define uma porcentagem, produzindo um gráfico mais translúcido. Finalmente, usando a palavra-chave **title**, o nome do gráfico é definido."
   ]
  },
  {
   "cell_type": "code",
   "execution_count": null,
   "metadata": {},
   "outputs": [],
   "source": [
    "fig = plt.figure(figsize=(12, 5))\n",
    "totalSum = pivedu.sum(axis=1).sort_values(ascending=False)\n",
    "totalSum.plot(kind='bar', style='b', alpha=0.4,\n",
    "              title='Valores totais por pais')\n",
    "plt.savefig('plots/Totalvalue_Country.png', dpi=300, bbox_inches='tight')"
   ]
  },
  {
   "cell_type": "markdown",
   "metadata": {},
   "source": [
    "Também é possível plotar um DataFrame diretamente. Nesse caso, cada coluna é tratada como uma série separada. Por exemplo, em vez de imprimir o valor acumulado ao longo dos anos, podemos representar graficamente o valor de cada ano.\n",
    "\n",
    "Neste caso, usamos um gráfico de barras horizontal **(kind = 'barh')** empilhando todos os anos na mesma barra do país. Isso pode ser feito definindo o parâmetro **stacked** como True. O número de cores padrão em um gráfico é apenas 5, portanto, se você tiver mais de 5 séries para mostrar, será necessário especificar mais cores ou, caso contrário, o mesmo conjunto de cores será usado novamente. Podemos definir um novo conjunto de cores usando a palavra-chave **color** com uma lista de cores. As cores básicas têm um código de um único caractere atribuído a cada uma delas, por exemplo, 'b' para azul, 'r' para vermelho, 'g' para verde, 'y' para amarelo, 'm' para magenta e 'c' para ciano. Quando várias séries são mostradas em um gráfico, uma legenda é criada para identificar cada uma. O nome de cada série é o nome da coluna no DataFrame. Por padrão, a legenda fica dentro da área de plotagem. Se quisermos alterar, podemos usar a função de legenda do objeto de eixo (esse é o objeto retornado quando a função de gráfico é chamada). Usando a palavra-chave **loc**, podemos definir a posição relativa da legenda em relação ao gráfico. Pode ser uma combinação de direita ou esquerda e superior, inferior ou central. Com bbox_to_anchor podemos definir uma posição absoluta em relação ao gráfico, o que nos permite colocar a legenda fora do gráfico."
   ]
  },
  {
   "cell_type": "code",
   "execution_count": null,
   "metadata": {},
   "outputs": [],
   "source": [
    "my_colors = ['b', 'r', 'g', 'y', 'm', 'c']\n",
    "ax = pivedu.plot(kind='barh', stacked=True, color=my_colors, figsize=(12, 6))\n",
    "ax.legend(loc='center left', bbox_to_anchor=(1, 0.5))\n",
    "plt.savefig('plots/Value_Time_Country.png', dpi=300, bbox_inches='tight')"
   ]
  },
  {
   "cell_type": "code",
   "execution_count": null,
   "metadata": {},
   "outputs": [],
   "source": []
  }
 ],
 "metadata": {
  "kernelspec": {
   "display_name": "Python 3 (ipykernel)",
   "language": "python",
   "name": "python3"
  },
  "language_info": {
   "codemirror_mode": {
    "name": "ipython",
    "version": 3
   },
   "file_extension": ".py",
   "mimetype": "text/x-python",
   "name": "python",
   "nbconvert_exporter": "python",
   "pygments_lexer": "ipython3",
   "version": "3.10.6"
  }
 },
 "nbformat": 4,
 "nbformat_minor": 1
}
